{
 "cells": [
  {
   "cell_type": "markdown",
   "metadata": {},
   "source": [
    "# Generative Adversarial Network\n",
    "\n",
    "In this notebook, we'll be building a generative adversarial network (GAN) trained on the MNIST dataset. From this, we'll be able to generate new handwritten digits!\n",
    "\n",
    "GANs were [first reported on](https://arxiv.org/abs/1406.2661) in 2014 from Ian Goodfellow and others in Yoshua Bengio's lab. Since then, GANs have exploded in popularity. Here are a few examples to check out:\n",
    "\n",
    "* [Pix2Pix](https://affinelayer.com/pixsrv/) \n",
    "* [CycleGAN & Pix2Pix in PyTorch, Jun-Yan Zhu](https://github.com/junyanz/pytorch-CycleGAN-and-pix2pix)\n",
    "* [A list of generative models](https://github.com/wiseodd/generative-models)\n",
    "\n",
    "The idea behind GANs is that you have two networks, a generator $G$ and a discriminator $D$, competing against each other. The generator makes \"fake\" data to pass to the discriminator. The discriminator also sees real training data and predicts if the data it's received is real or fake. \n",
    "> * The generator is trained to fool the discriminator, it wants to output data that looks _as close as possible_ to real, training data. \n",
    "* The discriminator is a classifier that is trained to figure out which data is real and which is fake. \n",
    "\n",
    "What ends up happening is that the generator learns to make data that is indistinguishable from real data to the discriminator.\n",
    "\n",
    "<img src='assets/gan_pipeline.png' width=70% />\n",
    "\n",
    "The general structure of a GAN is shown in the diagram above, using MNIST images as data. The latent sample is a random vector that the generator uses to construct its fake images. This is often called a **latent vector** and that vector space is called **latent space**. As the generator trains, it figures out how to map latent vectors to recognizable images that can fool the discriminator.\n",
    "\n",
    "If you're interested in generating only new images, you can throw out the discriminator after training. In this notebook, I'll show you how to define and train these adversarial networks in PyTorch and generate new images!"
   ]
  },
  {
   "cell_type": "code",
   "execution_count": 1,
   "metadata": {},
   "outputs": [],
   "source": [
    "%matplotlib inline\n",
    "\n",
    "import numpy as np\n",
    "import torch\n",
    "import matplotlib.pyplot as plt"
   ]
  },
  {
   "cell_type": "code",
   "execution_count": 2,
   "metadata": {},
   "outputs": [
    {
     "name": "stderr",
     "output_type": "stream",
     "text": [
      "\r",
      "0it [00:00, ?it/s]"
     ]
    },
    {
     "name": "stdout",
     "output_type": "stream",
     "text": [
      "Downloading http://yann.lecun.com/exdb/mnist/train-images-idx3-ubyte.gz to data/MNIST/raw/train-images-idx3-ubyte.gz\n"
     ]
    },
    {
     "name": "stderr",
     "output_type": "stream",
     "text": [
      "9920512it [00:06, 1621946.46it/s]                             \n"
     ]
    },
    {
     "name": "stdout",
     "output_type": "stream",
     "text": [
      "Extracting data/MNIST/raw/train-images-idx3-ubyte.gz to data/MNIST/raw\n"
     ]
    },
    {
     "name": "stderr",
     "output_type": "stream",
     "text": [
      "\r",
      "0it [00:00, ?it/s]"
     ]
    },
    {
     "name": "stdout",
     "output_type": "stream",
     "text": [
      "Downloading http://yann.lecun.com/exdb/mnist/train-labels-idx1-ubyte.gz to data/MNIST/raw/train-labels-idx1-ubyte.gz\n"
     ]
    },
    {
     "name": "stderr",
     "output_type": "stream",
     "text": [
      "32768it [00:00, 50977.86it/s]                            \n",
      "0it [00:00, ?it/s]"
     ]
    },
    {
     "name": "stdout",
     "output_type": "stream",
     "text": [
      "Extracting data/MNIST/raw/train-labels-idx1-ubyte.gz to data/MNIST/raw\n",
      "Downloading http://yann.lecun.com/exdb/mnist/t10k-images-idx3-ubyte.gz to data/MNIST/raw/t10k-images-idx3-ubyte.gz\n"
     ]
    },
    {
     "name": "stderr",
     "output_type": "stream",
     "text": [
      "1654784it [00:01, 1493172.44it/s]                           \n",
      "0it [00:00, ?it/s]"
     ]
    },
    {
     "name": "stdout",
     "output_type": "stream",
     "text": [
      "Extracting data/MNIST/raw/t10k-images-idx3-ubyte.gz to data/MNIST/raw\n",
      "Downloading http://yann.lecun.com/exdb/mnist/t10k-labels-idx1-ubyte.gz to data/MNIST/raw/t10k-labels-idx1-ubyte.gz\n"
     ]
    },
    {
     "name": "stderr",
     "output_type": "stream",
     "text": [
      "8192it [00:00, 27706.76it/s]            "
     ]
    },
    {
     "name": "stdout",
     "output_type": "stream",
     "text": [
      "Extracting data/MNIST/raw/t10k-labels-idx1-ubyte.gz to data/MNIST/raw\n",
      "Processing...\n",
      "Done!\n"
     ]
    },
    {
     "name": "stderr",
     "output_type": "stream",
     "text": [
      "\n"
     ]
    }
   ],
   "source": [
    "from torchvision import datasets\n",
    "import torchvision.transforms as transforms\n",
    "\n",
    "# number of subprocesses to use for data loading\n",
    "num_workers = 0\n",
    "# how many samples per batch to load\n",
    "batch_size = 64\n",
    "\n",
    "# convert data to torch.FloatTensor\n",
    "transform = transforms.ToTensor()\n",
    "\n",
    "# get the training datasets\n",
    "train_data = datasets.MNIST(root='data', train=True,\n",
    "                                   download=True, transform=transform)\n",
    "\n",
    "# prepare data loader\n",
    "train_loader = torch.utils.data.DataLoader(train_data, batch_size=batch_size,\n",
    "                                           num_workers=num_workers)"
   ]
  },
  {
   "cell_type": "markdown",
   "metadata": {},
   "source": [
    "### Visualize the data"
   ]
  },
  {
   "cell_type": "code",
   "execution_count": 3,
   "metadata": {},
   "outputs": [
    {
     "data": {
      "text/plain": [
       "<matplotlib.image.AxesImage at 0x7fc1b0037250>"
      ]
     },
     "execution_count": 3,
     "metadata": {},
     "output_type": "execute_result"
    },
    {
     "data": {
      "image/png": "[encoded data removed]",
      "text/plain": [
       "<Figure size 216x216 with 1 Axes>"
      ]
     },
     "metadata": {
      "needs_background": "light"
     },
     "output_type": "display_data"
    }
   ],
   "source": [
    "# obtain one batch of training images\n",
    "dataiter = iter(train_loader)\n",
    "images, labels = dataiter.next()\n",
    "images = images.numpy()\n",
    "\n",
    "# get one image from the batch\n",
    "img = np.squeeze(images[0])\n",
    "\n",
    "fig = plt.figure(figsize = (3,3)) \n",
    "ax = fig.add_subplot(111)\n",
    "ax.imshow(img, cmap='gray')"
   ]
  },
  {
   "cell_type": "markdown",
   "metadata": {},
   "source": [
    "---\n",
    "# Define the Model\n",
    "\n",
    "A GAN is comprised of two adversarial networks, a discriminator and a generator."
   ]
  },
  {
   "cell_type": "markdown",
   "metadata": {},
   "source": [
    "## Discriminator\n",
    "\n",
    "The discriminator network is going to be a pretty typical linear classifier. To make this network a universal function approximator, we'll need at least one hidden layer, and these hidden layers should have one key attribute:\n",
    "> All hidden layers will have a [Leaky ReLu](https://pytorch.org/docs/stable/nn.html#torch.nn.LeakyReLU) activation function applied to their outputs.\n",
    "\n",
    "<img src='assets/gan_network.png' width=70% />\n",
    "\n",
    "#### Leaky ReLu\n",
    "\n",
    "We should use a leaky ReLU to allow gradients to flow backwards through the layer unimpeded. A leaky ReLU is like a normal ReLU, except that there is a small non-zero output for negative input values.\n",
    "\n",
    "<img src='assets/leaky_relu.png' width=40% />\n",
    "\n",
    "#### Sigmoid Output\n",
    "\n",
    "We'll also take the approach of using a more numerically stable loss function on the outputs. Recall that we want the discriminator to output a value 0-1 indicating whether an image is _real or fake_. \n",
    "> We will ultimately use [BCEWithLogitsLoss](https://pytorch.org/docs/stable/nn.html#bcewithlogitsloss), which combines a `sigmoid` activation function **and** and binary cross entropy loss in one function. \n",
    "\n",
    "So, our final output layer should not have any activation function applied to it."
   ]
  },
  {
   "cell_type": "code",
   "execution_count": 177,
   "metadata": {},
   "outputs": [],
   "source": [
    "import torch.nn as nn\n",
    "import torch.nn.functional as F\n",
    "\n",
    "class Discriminator(nn.Module):\n",
    "\n",
    "    def __init__(self, input_size, hidden_dim, output_size):\n",
    "        super(Discriminator, self).__init__()\n",
    "        \n",
    "        self.fc1 = nn.Linear(input_size, hidden_dim*4)\n",
    "        self.fc2 = nn.Linear(hidden_dim*4, hidden_dim*2)\n",
    "        self.fc3 = nn.Linear(hidden_dim*2, hidden_dim)\n",
    "        \n",
    "        self.fc4 = nn.Linear(hidden_dim, output_size)\n",
    "        \n",
    "        self.dropout = nn.Dropout(0.3)\n",
    "        \n",
    "    def forward(self, x):\n",
    "        # flatten image\n",
    "        \n",
    "        # pass x through all layers\n",
    "        # apply leaky relu activation to all hidden layers\n",
    "        \n",
    "        x = x.view(-1, 28*28)\n",
    "        \n",
    "        x = F.leaky_relu(self.fc1(x), 0.2) \n",
    "        x = self.dropout(x)\n",
    "        x = F.leaky_relu(self.fc2(x), 0.2)\n",
    "        x = self.dropout(x)\n",
    "        x = F.leaky_relu(self.fc3(x), 0.2)\n",
    "        x = self.dropout(x)\n",
    "        \n",
    "        x = self.fc4(x)\n",
    "\n",
    "        return x\n"
   ]
  },
  {
   "cell_type": "markdown",
   "metadata": {},
   "source": [
    "## Generator\n",
    "\n",
    "The generator network will be almost exactly the same as the discriminator network, except that we're applying a [tanh activation function](https://pytorch.org/docs/stable/nn.html#tanh) to our output layer.\n",
    "\n",
    "#### tanh Output\n",
    "The generator has been found to perform the best with $tanh$ for the generator output, which scales the output to be between -1 and 1, instead of 0 and 1. \n",
    "\n",
    "<img src='assets/tanh_fn.png' width=40% />\n",
    "\n",
    "Recall that we also want these outputs to be comparable to the *real* input pixel values, which are read in as normalized values between 0 and 1. \n",
    "> So, we'll also have to **scale our real input images to have pixel values between -1 and 1** when we train the discriminator. \n",
    "\n",
    "I'll do this in the training loop, later on."
   ]
  },
  {
   "cell_type": "code",
   "execution_count": 178,
   "metadata": {},
   "outputs": [],
   "source": [
    "class Generator(nn.Module):\n",
    "\n",
    "    def __init__(self, input_size, hidden_dim, output_size):\n",
    "        super(Generator, self).__init__()\n",
    "        \n",
    "        # define all layers\n",
    "        self.fc1 = nn.Linear(input_size, hidden_dim)\n",
    "        self.fc2 = nn.Linear(hidden_dim, hidden_dim*2)\n",
    "        self.fc3 = nn.Linear(hidden_dim*2, hidden_dim*4)\n",
    "        \n",
    "        self.fc4 = nn.Linear(hidden_dim*4, output_size)\n",
    "        \n",
    "        self.dropout = nn.Dropout(0.3)\n",
    "\n",
    "    def forward(self, x):\n",
    "        # pass x through all layers\n",
    "        \n",
    "        # final layer should have tanh applied\n",
    "        x = F.leaky_relu(self.fc1(x), 0.2)\n",
    "        x = self.dropout(x)\n",
    "        x = F.leaky_relu(self.fc2(x), 0.2)\n",
    "        x = self.dropout(x)\n",
    "        x = F.leaky_relu(self.fc3(x), 0.2)\n",
    "        x = self.dropout(x)\n",
    "        \n",
    "        x = F.tanh(self.fc4(x))\n",
    "        \n",
    "        return x"
   ]
  },
  {
   "cell_type": "markdown",
   "metadata": {},
   "source": [
    "## Model hyperparameters"
   ]
  },
  {
   "cell_type": "code",
   "execution_count": 179,
   "metadata": {},
   "outputs": [],
   "source": [
    "# Discriminator hyperparams\n",
    "\n",
    "# Size of input image to discriminator (28*28)\n",
    "input_size = 784\n",
    "# Size of discriminator output (real or fake)\n",
    "d_output_size = 1\n",
    "# Size of last hidden layer in the discriminator\n",
    "d_hidden_size = 32\n",
    "\n",
    "# Generator hyperparams\n",
    "\n",
    "# Size of latent vector to give to generator\n",
    "z_size = 100\n",
    "# Size of discriminator output (generated image)\n",
    "g_output_size = 784\n",
    "# Size of first hidden layer in the generator\n",
    "g_hidden_size = 32"
   ]
  },
  {
   "cell_type": "markdown",
   "metadata": {},
   "source": [
    "## Build complete network\n",
    "\n",
    "Now we're instantiating the discriminator and generator from the classes defined above. Make sure you've passed in the correct input arguments."
   ]
  },
  {
   "cell_type": "code",
   "execution_count": 180,
   "metadata": {},
   "outputs": [
    {
     "name": "stdout",
     "output_type": "stream",
     "text": [
      "Discriminator(\n",
      "  (fc1): Linear(in_features=784, out_features=128, bias=True)\n",
      "  (fc2): Linear(in_features=128, out_features=64, bias=True)\n",
      "  (fc3): Linear(in_features=64, out_features=32, bias=True)\n",
      "  (fc4): Linear(in_features=32, out_features=1, bias=True)\n",
      "  (dropout): Dropout(p=0.3, inplace=False)\n",
      ")\n",
      "\n",
      "Generator(\n",
      "  (fc1): Linear(in_features=100, out_features=32, bias=True)\n",
      "  (fc2): Linear(in_features=32, out_features=64, bias=True)\n",
      "  (fc3): Linear(in_features=64, out_features=128, bias=True)\n",
      "  (fc4): Linear(in_features=128, out_features=784, bias=True)\n",
      "  (dropout): Dropout(p=0.3, inplace=False)\n",
      ")\n"
     ]
    }
   ],
   "source": [
    "# instantiate discriminator and generator\n",
    "D = Discriminator(input_size, d_hidden_size, d_output_size)\n",
    "G = Generator(z_size, g_hidden_size, g_output_size)\n",
    "\n",
    "# check that they are as you expect\n",
    "print(D)\n",
    "print()\n",
    "print(G)"
   ]
  },
  {
   "cell_type": "code",
   "execution_count": 181,
   "metadata": {},
   "outputs": [
    {
     "name": "stdout",
     "output_type": "stream",
     "text": [
      "Training on GPU.\n"
     ]
    }
   ],
   "source": [
    "use_cuda=torch.cuda.is_available()\n",
    "\n",
    "# use_cuda = False\n",
    "\n",
    "if(use_cuda):\n",
    "    print('Training on GPU.')\n",
    "else:\n",
    "    print('No GPU available, training on CPU.')"
   ]
  },
  {
   "cell_type": "markdown",
   "metadata": {},
   "source": [
    "---\n",
    "## Discriminator and Generator Losses\n",
    "\n",
    "Now we need to calculate the losses. \n",
    "\n",
    "### Discriminator Losses\n",
    "\n",
    "> * For the discriminator, the total loss is the sum of the losses for real and fake images, `d_loss = d_real_loss + d_fake_loss`. \n",
    "* Remember that we want the discriminator to output 1 for real images and 0 for fake images, so we need to set up the losses to reflect that.\n",
    "\n",
    "<img src='assets/gan_pipeline.png' width=70% />\n",
    "\n",
    "The losses will by binary cross entropy loss with logits, which we can get with [BCEWithLogitsLoss](https://pytorch.org/docs/stable/nn.html#bcewithlogitsloss). This combines a `sigmoid` activation function **and** and binary cross entropy loss in one function.\n",
    "\n",
    "For the real images, we want `D(real_images) = 1`. That is, we want the discriminator to classify the the real images with a label = 1, indicating that these are real. To help the discriminator generalize better, the labels are **reduced a bit from 1.0 to 0.9**. For this, we'll use the parameter `smooth`; if True, then we should smooth our labels. In PyTorch, this looks like `labels = torch.ones(size) * 0.9`\n",
    "\n",
    "The discriminator loss for the fake data is similar. We want `D(fake_images) = 0`, where the fake images are the _generator output_, `fake_images = G(z)`. \n",
    "\n",
    "### Generator Loss\n",
    "\n",
    "The generator loss will look similar only with flipped labels. The generator's goal is to get `D(fake_images) = 1`. In this case, the labels are **flipped** to represent that the generator is trying to fool the discriminator into thinking that the images it generates (fakes) are real!"
   ]
  },
  {
   "cell_type": "code",
   "execution_count": 182,
   "metadata": {},
   "outputs": [],
   "source": [
    "# Calculate losses\n",
    "def real_loss(D_out, smooth=False):\n",
    "    # compare logits to real labels\n",
    "    # smooth labels if smooth=True\n",
    "    \n",
    "    batch_size = D_out.size(0)\n",
    "    \n",
    "    if smooth:\n",
    "        y = torch.ones(batch_size) * 0.9\n",
    "    else:\n",
    "        y = torch.ones(batch_size)\n",
    "    \n",
    "    if (use_cuda):\n",
    "        y = y.cuda()\n",
    "        \n",
    "    criterion = nn.BCEWithLogitsLoss()\n",
    "        \n",
    "    loss = criterion(D_out.squeeze(), y)\n",
    "    return loss\n",
    "\n",
    "def fake_loss(D_out):\n",
    "    # compare logits to fake labels\n",
    "    batch_size = D_out.size(0)\n",
    "    \n",
    "    y = torch.zeros(batch_size)\n",
    "    \n",
    "    if (use_cuda):\n",
    "        y = y.cuda()\n",
    "    \n",
    "    criterion = nn.BCEWithLogitsLoss()\n",
    "    loss = criterion(D_out.squeeze(), y)\n",
    "    return loss"
   ]
  },
  {
   "cell_type": "markdown",
   "metadata": {},
   "source": [
    "## Optimizers\n",
    "\n",
    "We want to update the generator and discriminator variables separately. So, we'll define two separate Adam optimizers."
   ]
  },
  {
   "cell_type": "code",
   "execution_count": 183,
   "metadata": {
    "scrolled": true
   },
   "outputs": [],
   "source": [
    "import torch.optim as optim\n",
    "\n",
    "# learning rate for optimizers\n",
    "lr = 0.002\n",
    "\n",
    "# Create optimizers for the discriminator and generator\n",
    "d_optimizer = optim.Adam(D.parameters(), lr=lr)\n",
    "g_optimizer = optim.Adam(G.parameters(), lr=lr)"
   ]
  },
  {
   "cell_type": "markdown",
   "metadata": {},
   "source": [
    "---\n",
    "## Training\n",
    "\n",
    "Training will involve alternating between training the discriminator and the generator. We'll use our functions `real_loss` and `fake_loss` to help us calculate the discriminator losses in all of the following cases.\n",
    "\n",
    "### Discriminator training\n",
    "1. Compute the discriminator loss on real, training images        \n",
    "2. Generate fake images\n",
    "3. Compute the discriminator loss on fake, generated images     \n",
    "4. Add up real and fake loss\n",
    "5. Perform backpropagation + an optimization step to update the discriminator's weights\n",
    "\n",
    "### Generator training\n",
    "1. Generate fake images\n",
    "2. Compute the discriminator loss on fake images, using **flipped** labels!\n",
    "3. Perform backpropagation + an optimization step to update the generator's weights\n",
    "\n",
    "#### Saving Samples\n",
    "\n",
    "As we train, we'll also print out some loss statistics and save some generated \"fake\" samples."
   ]
  },
  {
   "cell_type": "code",
   "execution_count": 184,
   "metadata": {
    "scrolled": true
   },
   "outputs": [
    {
     "name": "stdout",
     "output_type": "stream",
     "text": [
      "Epoch [    1/  100] | d_loss: 1.3814 | g_loss: 0.6845\n",
      "Epoch [    1/  100] | d_loss: 1.8614 | g_loss: 0.3341\n",
      "Epoch [    1/  100] | d_loss: 1.4808 | g_loss: 0.8193\n",
      "Epoch [    2/  100] | d_loss: 1.1551 | g_loss: 0.9842\n",
      "Epoch [    2/  100] | d_loss: 1.1444 | g_loss: 1.3257\n",
      "Epoch [    2/  100] | d_loss: 1.3388 | g_loss: 1.2463\n",
      "Epoch [    3/  100] | d_loss: 1.3744 | g_loss: 0.8760\n",
      "Epoch [    3/  100] | d_loss: 1.0969 | g_loss: 0.9797\n",
      "Epoch [    3/  100] | d_loss: 1.1819 | g_loss: 0.9246\n",
      "Epoch [    4/  100] | d_loss: 1.0456 | g_loss: 1.7931\n",
      "Epoch [    4/  100] | d_loss: 0.9977 | g_loss: 1.3711\n",
      "Epoch [    4/  100] | d_loss: 1.1103 | g_loss: 1.1921\n",
      "Epoch [    5/  100] | d_loss: 1.1186 | g_loss: 2.8722\n",
      "Epoch [    5/  100] | d_loss: 0.9988 | g_loss: 2.0638\n",
      "Epoch [    5/  100] | d_loss: 1.1141 | g_loss: 1.2855\n",
      "Epoch [    6/  100] | d_loss: 1.2891 | g_loss: 0.9173\n",
      "Epoch [    6/  100] | d_loss: 1.1634 | g_loss: 1.2814\n",
      "Epoch [    6/  100] | d_loss: 1.1873 | g_loss: 1.5557\n",
      "Epoch [    7/  100] | d_loss: 1.1134 | g_loss: 1.3137\n",
      "Epoch [    7/  100] | d_loss: 1.0882 | g_loss: 1.6381\n",
      "Epoch [    7/  100] | d_loss: 1.4553 | g_loss: 0.8863\n",
      "Epoch [    8/  100] | d_loss: 1.2587 | g_loss: 0.9448\n",
      "Epoch [    8/  100] | d_loss: 1.2085 | g_loss: 0.9949\n",
      "Epoch [    8/  100] | d_loss: 1.1699 | g_loss: 1.1935\n",
      "Epoch [    9/  100] | d_loss: 1.2413 | g_loss: 1.3412\n",
      "Epoch [    9/  100] | d_loss: 1.1058 | g_loss: 1.7212\n",
      "Epoch [    9/  100] | d_loss: 1.2215 | g_loss: 1.5420\n",
      "Epoch [   10/  100] | d_loss: 1.2775 | g_loss: 1.2012\n",
      "Epoch [   10/  100] | d_loss: 1.2297 | g_loss: 0.9264\n",
      "Epoch [   10/  100] | d_loss: 1.3061 | g_loss: 1.1575\n",
      "Epoch [   11/  100] | d_loss: 1.2015 | g_loss: 2.1551\n",
      "Epoch [   11/  100] | d_loss: 1.2359 | g_loss: 1.0285\n",
      "Epoch [   11/  100] | d_loss: 1.1953 | g_loss: 1.1209\n",
      "Epoch [   12/  100] | d_loss: 1.2235 | g_loss: 1.1737\n",
      "Epoch [   12/  100] | d_loss: 1.1735 | g_loss: 1.1640\n",
      "Epoch [   12/  100] | d_loss: 1.2836 | g_loss: 0.9029\n",
      "Epoch [   13/  100] | d_loss: 1.2552 | g_loss: 1.1633\n",
      "Epoch [   13/  100] | d_loss: 1.2506 | g_loss: 1.1171\n",
      "Epoch [   13/  100] | d_loss: 1.3417 | g_loss: 0.9953\n",
      "Epoch [   14/  100] | d_loss: 1.3134 | g_loss: 0.9599\n",
      "Epoch [   14/  100] | d_loss: 1.2847 | g_loss: 1.5416\n",
      "Epoch [   14/  100] | d_loss: 1.3899 | g_loss: 0.8695\n",
      "Epoch [   15/  100] | d_loss: 1.2752 | g_loss: 0.8947\n",
      "Epoch [   15/  100] | d_loss: 1.2180 | g_loss: 1.2805\n",
      "Epoch [   15/  100] | d_loss: 1.3711 | g_loss: 1.1383\n",
      "Epoch [   16/  100] | d_loss: 1.3311 | g_loss: 0.8812\n",
      "Epoch [   16/  100] | d_loss: 1.2856 | g_loss: 1.2580\n",
      "Epoch [   16/  100] | d_loss: 1.3793 | g_loss: 0.9294\n",
      "Epoch [   17/  100] | d_loss: 1.2122 | g_loss: 1.4685\n",
      "Epoch [   17/  100] | d_loss: 1.3121 | g_loss: 0.9111\n",
      "Epoch [   17/  100] | d_loss: 1.2069 | g_loss: 0.9912\n",
      "Epoch [   18/  100] | d_loss: 1.2855 | g_loss: 0.9643\n",
      "Epoch [   18/  100] | d_loss: 1.2453 | g_loss: 0.9748\n",
      "Epoch [   18/  100] | d_loss: 1.2795 | g_loss: 1.2729\n",
      "Epoch [   19/  100] | d_loss: 1.2906 | g_loss: 0.8888\n",
      "Epoch [   19/  100] | d_loss: 1.0624 | g_loss: 1.7739\n",
      "Epoch [   19/  100] | d_loss: 1.2940 | g_loss: 1.1428\n",
      "Epoch [   20/  100] | d_loss: 1.2682 | g_loss: 0.9084\n",
      "Epoch [   20/  100] | d_loss: 1.2115 | g_loss: 1.1323\n",
      "Epoch [   20/  100] | d_loss: 1.3966 | g_loss: 0.9159\n",
      "Epoch [   21/  100] | d_loss: 1.2677 | g_loss: 1.1677\n",
      "Epoch [   21/  100] | d_loss: 1.2130 | g_loss: 0.9637\n",
      "Epoch [   21/  100] | d_loss: 1.2871 | g_loss: 0.9535\n",
      "Epoch [   22/  100] | d_loss: 1.2455 | g_loss: 1.0484\n",
      "Epoch [   22/  100] | d_loss: 1.2498 | g_loss: 1.0323\n",
      "Epoch [   22/  100] | d_loss: 1.1597 | g_loss: 1.2548\n",
      "Epoch [   23/  100] | d_loss: 1.2261 | g_loss: 1.2693\n",
      "Epoch [   23/  100] | d_loss: 1.1922 | g_loss: 1.6976\n",
      "Epoch [   23/  100] | d_loss: 1.3003 | g_loss: 0.9253\n",
      "Epoch [   24/  100] | d_loss: 1.1954 | g_loss: 1.0852\n",
      "Epoch [   24/  100] | d_loss: 1.1630 | g_loss: 1.0038\n",
      "Epoch [   24/  100] | d_loss: 1.3338 | g_loss: 0.9933\n",
      "Epoch [   25/  100] | d_loss: 1.2847 | g_loss: 0.8295\n",
      "Epoch [   25/  100] | d_loss: 1.2904 | g_loss: 1.0423\n",
      "Epoch [   25/  100] | d_loss: 1.2045 | g_loss: 1.1751\n",
      "Epoch [   26/  100] | d_loss: 1.2980 | g_loss: 0.8599\n",
      "Epoch [   26/  100] | d_loss: 1.3035 | g_loss: 0.9791\n",
      "Epoch [   26/  100] | d_loss: 1.3573 | g_loss: 1.0238\n",
      "Epoch [   27/  100] | d_loss: 1.2451 | g_loss: 0.9982\n",
      "Epoch [   27/  100] | d_loss: 1.1796 | g_loss: 0.9649\n",
      "Epoch [   27/  100] | d_loss: 1.3915 | g_loss: 0.8965\n",
      "Epoch [   28/  100] | d_loss: 1.2830 | g_loss: 1.1420\n",
      "Epoch [   28/  100] | d_loss: 1.3437 | g_loss: 0.9815\n",
      "Epoch [   28/  100] | d_loss: 1.3317 | g_loss: 0.8823\n",
      "Epoch [   29/  100] | d_loss: 1.2216 | g_loss: 0.9817\n",
      "Epoch [   29/  100] | d_loss: 1.3181 | g_loss: 0.8280\n",
      "Epoch [   29/  100] | d_loss: 1.3311 | g_loss: 0.8096\n",
      "Epoch [   30/  100] | d_loss: 1.2431 | g_loss: 1.4449\n",
      "Epoch [   30/  100] | d_loss: 1.2829 | g_loss: 0.9661\n",
      "Epoch [   30/  100] | d_loss: 1.2587 | g_loss: 1.5173\n",
      "Epoch [   31/  100] | d_loss: 1.2899 | g_loss: 1.3494\n",
      "Epoch [   31/  100] | d_loss: 1.2796 | g_loss: 1.1645\n",
      "Epoch [   31/  100] | d_loss: 1.3011 | g_loss: 0.9635\n",
      "Epoch [   32/  100] | d_loss: 1.3110 | g_loss: 0.9638\n",
      "Epoch [   32/  100] | d_loss: 1.2985 | g_loss: 1.1990\n",
      "Epoch [   32/  100] | d_loss: 1.2724 | g_loss: 0.9818\n",
      "Epoch [   33/  100] | d_loss: 1.2471 | g_loss: 1.4873\n",
      "Epoch [   33/  100] | d_loss: 1.2079 | g_loss: 1.0983\n",
      "Epoch [   33/  100] | d_loss: 1.3556 | g_loss: 0.8922\n",
      "Epoch [   34/  100] | d_loss: 1.3558 | g_loss: 1.5579\n",
      "Epoch [   34/  100] | d_loss: 1.2680 | g_loss: 1.1317\n",
      "Epoch [   34/  100] | d_loss: 1.3244 | g_loss: 0.9899\n",
      "Epoch [   35/  100] | d_loss: 1.3085 | g_loss: 0.8952\n",
      "Epoch [   35/  100] | d_loss: 1.2297 | g_loss: 1.0211\n",
      "Epoch [   35/  100] | d_loss: 1.2434 | g_loss: 0.9328\n",
      "Epoch [   36/  100] | d_loss: 1.3318 | g_loss: 0.8405\n",
      "Epoch [   36/  100] | d_loss: 1.2671 | g_loss: 0.8773\n",
      "Epoch [   36/  100] | d_loss: 1.2261 | g_loss: 1.5271\n",
      "Epoch [   37/  100] | d_loss: 1.2501 | g_loss: 1.0448\n",
      "Epoch [   37/  100] | d_loss: 1.3645 | g_loss: 0.8946\n",
      "Epoch [   37/  100] | d_loss: 1.3331 | g_loss: 0.8922\n",
      "Epoch [   38/  100] | d_loss: 1.2315 | g_loss: 1.4447\n",
      "Epoch [   38/  100] | d_loss: 1.3579 | g_loss: 0.9224\n",
      "Epoch [   38/  100] | d_loss: 1.3720 | g_loss: 1.0461\n",
      "Epoch [   39/  100] | d_loss: 1.2728 | g_loss: 1.1065\n",
      "Epoch [   39/  100] | d_loss: 1.3699 | g_loss: 0.8450\n",
      "Epoch [   39/  100] | d_loss: 1.2840 | g_loss: 0.9674\n",
      "Epoch [   40/  100] | d_loss: 1.1802 | g_loss: 1.4342\n",
      "Epoch [   40/  100] | d_loss: 1.2824 | g_loss: 0.9939\n",
      "Epoch [   40/  100] | d_loss: 1.4061 | g_loss: 1.0234\n",
      "Epoch [   41/  100] | d_loss: 1.2885 | g_loss: 1.0753\n",
      "Epoch [   41/  100] | d_loss: 1.2202 | g_loss: 1.0656\n",
      "Epoch [   41/  100] | d_loss: 1.3303 | g_loss: 1.0597\n",
      "Epoch [   42/  100] | d_loss: 1.2691 | g_loss: 1.0744\n",
      "Epoch [   42/  100] | d_loss: 1.2757 | g_loss: 1.0131\n",
      "Epoch [   42/  100] | d_loss: 1.3314 | g_loss: 1.0426\n",
      "Epoch [   43/  100] | d_loss: 1.3218 | g_loss: 0.8662\n",
      "Epoch [   43/  100] | d_loss: 1.2633 | g_loss: 1.2006\n",
      "Epoch [   43/  100] | d_loss: 1.2296 | g_loss: 1.0303\n",
      "Epoch [   44/  100] | d_loss: 1.3273 | g_loss: 0.9011\n",
      "Epoch [   44/  100] | d_loss: 1.1810 | g_loss: 1.6839\n",
      "Epoch [   44/  100] | d_loss: 1.3984 | g_loss: 1.0653\n",
      "Epoch [   45/  100] | d_loss: 1.3200 | g_loss: 0.8909\n",
      "Epoch [   45/  100] | d_loss: 1.3452 | g_loss: 0.8328\n",
      "Epoch [   45/  100] | d_loss: 1.2098 | g_loss: 1.3410\n",
      "Epoch [   46/  100] | d_loss: 1.2013 | g_loss: 1.2445\n",
      "Epoch [   46/  100] | d_loss: 1.2771 | g_loss: 0.8746\n",
      "Epoch [   46/  100] | d_loss: 1.1887 | g_loss: 1.4419\n",
      "Epoch [   47/  100] | d_loss: 1.3111 | g_loss: 1.1522\n",
      "Epoch [   47/  100] | d_loss: 1.2955 | g_loss: 0.8759\n",
      "Epoch [   47/  100] | d_loss: 1.4310 | g_loss: 0.9033\n",
      "Epoch [   48/  100] | d_loss: 1.3936 | g_loss: 1.2935\n",
      "Epoch [   48/  100] | d_loss: 1.2833 | g_loss: 1.2271\n",
      "Epoch [   48/  100] | d_loss: 1.1981 | g_loss: 0.9958\n",
      "Epoch [   49/  100] | d_loss: 1.2188 | g_loss: 1.4852\n",
      "Epoch [   49/  100] | d_loss: 1.2377 | g_loss: 1.3944\n",
      "Epoch [   49/  100] | d_loss: 1.3115 | g_loss: 1.0450\n",
      "Epoch [   50/  100] | d_loss: 1.3407 | g_loss: 1.4399\n",
      "Epoch [   50/  100] | d_loss: 1.3035 | g_loss: 1.0864\n",
      "Epoch [   50/  100] | d_loss: 1.2946 | g_loss: 1.0859\n",
      "Epoch [   51/  100] | d_loss: 1.2641 | g_loss: 0.9426\n",
      "Epoch [   51/  100] | d_loss: 1.1852 | g_loss: 0.9762\n"
     ]
    },
    {
     "name": "stdout",
     "output_type": "stream",
     "text": [
      "Epoch [   51/  100] | d_loss: 1.2851 | g_loss: 1.0757\n",
      "Epoch [   52/  100] | d_loss: 1.3634 | g_loss: 0.9188\n",
      "Epoch [   52/  100] | d_loss: 1.2498 | g_loss: 1.0249\n",
      "Epoch [   52/  100] | d_loss: 1.2951 | g_loss: 0.9791\n",
      "Epoch [   53/  100] | d_loss: 1.2727 | g_loss: 1.1012\n",
      "Epoch [   53/  100] | d_loss: 1.3333 | g_loss: 0.9390\n",
      "Epoch [   53/  100] | d_loss: 1.2893 | g_loss: 1.2023\n",
      "Epoch [   54/  100] | d_loss: 1.2186 | g_loss: 1.0813\n",
      "Epoch [   54/  100] | d_loss: 1.2550 | g_loss: 0.9006\n",
      "Epoch [   54/  100] | d_loss: 1.2500 | g_loss: 0.9783\n",
      "Epoch [   55/  100] | d_loss: 1.2186 | g_loss: 1.2305\n",
      "Epoch [   55/  100] | d_loss: 1.2711 | g_loss: 0.9750\n",
      "Epoch [   55/  100] | d_loss: 1.2506 | g_loss: 1.2623\n",
      "Epoch [   56/  100] | d_loss: 1.2276 | g_loss: 1.3246\n",
      "Epoch [   56/  100] | d_loss: 1.3251 | g_loss: 0.9990\n",
      "Epoch [   56/  100] | d_loss: 1.4280 | g_loss: 0.9661\n",
      "Epoch [   57/  100] | d_loss: 1.3174 | g_loss: 0.8662\n",
      "Epoch [   57/  100] | d_loss: 1.2621 | g_loss: 1.1200\n",
      "Epoch [   57/  100] | d_loss: 1.3340 | g_loss: 0.9734\n",
      "Epoch [   58/  100] | d_loss: 1.2492 | g_loss: 0.8660\n",
      "Epoch [   58/  100] | d_loss: 1.2403 | g_loss: 1.0302\n",
      "Epoch [   58/  100] | d_loss: 1.2800 | g_loss: 0.8941\n",
      "Epoch [   59/  100] | d_loss: 1.1923 | g_loss: 1.2383\n",
      "Epoch [   59/  100] | d_loss: 1.3055 | g_loss: 1.1670\n",
      "Epoch [   59/  100] | d_loss: 1.2630 | g_loss: 0.9981\n",
      "Epoch [   60/  100] | d_loss: 1.4191 | g_loss: 0.9915\n",
      "Epoch [   60/  100] | d_loss: 1.1993 | g_loss: 1.0176\n",
      "Epoch [   60/  100] | d_loss: 1.3780 | g_loss: 1.1068\n",
      "Epoch [   61/  100] | d_loss: 1.3139 | g_loss: 1.8116\n",
      "Epoch [   61/  100] | d_loss: 1.1787 | g_loss: 1.0423\n",
      "Epoch [   61/  100] | d_loss: 1.3536 | g_loss: 0.9046\n",
      "Epoch [   62/  100] | d_loss: 1.3286 | g_loss: 1.1411\n",
      "Epoch [   62/  100] | d_loss: 1.2742 | g_loss: 0.9107\n",
      "Epoch [   62/  100] | d_loss: 1.3581 | g_loss: 1.0057\n",
      "Epoch [   63/  100] | d_loss: 1.2572 | g_loss: 1.1222\n",
      "Epoch [   63/  100] | d_loss: 1.2961 | g_loss: 0.9945\n",
      "Epoch [   63/  100] | d_loss: 1.3760 | g_loss: 1.0585\n",
      "Epoch [   64/  100] | d_loss: 1.3040 | g_loss: 0.8059\n",
      "Epoch [   64/  100] | d_loss: 1.1587 | g_loss: 1.0937\n",
      "Epoch [   64/  100] | d_loss: 1.4511 | g_loss: 1.1228\n",
      "Epoch [   65/  100] | d_loss: 1.2698 | g_loss: 0.9220\n",
      "Epoch [   65/  100] | d_loss: 1.2649 | g_loss: 0.9175\n",
      "Epoch [   65/  100] | d_loss: 1.3796 | g_loss: 1.0525\n",
      "Epoch [   66/  100] | d_loss: 1.3076 | g_loss: 0.8781\n",
      "Epoch [   66/  100] | d_loss: 1.2196 | g_loss: 0.8394\n",
      "Epoch [   66/  100] | d_loss: 1.4121 | g_loss: 1.0235\n",
      "Epoch [   67/  100] | d_loss: 1.3628 | g_loss: 1.5124\n",
      "Epoch [   67/  100] | d_loss: 1.2364 | g_loss: 1.0006\n",
      "Epoch [   67/  100] | d_loss: 1.3239 | g_loss: 1.0349\n",
      "Epoch [   68/  100] | d_loss: 1.2930 | g_loss: 0.9719\n",
      "Epoch [   68/  100] | d_loss: 1.2349 | g_loss: 0.8045\n",
      "Epoch [   68/  100] | d_loss: 1.4340 | g_loss: 1.4464\n",
      "Epoch [   69/  100] | d_loss: 1.2683 | g_loss: 1.1425\n",
      "Epoch [   69/  100] | d_loss: 1.2297 | g_loss: 1.2065\n",
      "Epoch [   69/  100] | d_loss: 1.2989 | g_loss: 0.9826\n",
      "Epoch [   70/  100] | d_loss: 1.1635 | g_loss: 0.9782\n",
      "Epoch [   70/  100] | d_loss: 1.3952 | g_loss: 0.9642\n",
      "Epoch [   70/  100] | d_loss: 1.3132 | g_loss: 0.8545\n",
      "Epoch [   71/  100] | d_loss: 1.2018 | g_loss: 1.0949\n",
      "Epoch [   71/  100] | d_loss: 1.2981 | g_loss: 1.0238\n",
      "Epoch [   71/  100] | d_loss: 1.4167 | g_loss: 0.9736\n",
      "Epoch [   72/  100] | d_loss: 1.1584 | g_loss: 2.4600\n",
      "Epoch [   72/  100] | d_loss: 1.2442 | g_loss: 1.0001\n",
      "Epoch [   72/  100] | d_loss: 1.3292 | g_loss: 1.0571\n",
      "Epoch [   73/  100] | d_loss: 1.4068 | g_loss: 1.1331\n",
      "Epoch [   73/  100] | d_loss: 1.2599 | g_loss: 0.9322\n",
      "Epoch [   73/  100] | d_loss: 1.3177 | g_loss: 0.9617\n",
      "Epoch [   74/  100] | d_loss: 1.2181 | g_loss: 1.3835\n",
      "Epoch [   74/  100] | d_loss: 1.2591 | g_loss: 0.9974\n",
      "Epoch [   74/  100] | d_loss: 1.3644 | g_loss: 0.9260\n",
      "Epoch [   75/  100] | d_loss: 1.2855 | g_loss: 0.9732\n",
      "Epoch [   75/  100] | d_loss: 1.2744 | g_loss: 1.5809\n",
      "Epoch [   75/  100] | d_loss: 1.4336 | g_loss: 1.1584\n",
      "Epoch [   76/  100] | d_loss: 1.3277 | g_loss: 1.0202\n",
      "Epoch [   76/  100] | d_loss: 1.2837 | g_loss: 1.2809\n",
      "Epoch [   76/  100] | d_loss: 1.3633 | g_loss: 0.9420\n",
      "Epoch [   77/  100] | d_loss: 1.3579 | g_loss: 1.2386\n",
      "Epoch [   77/  100] | d_loss: 1.1944 | g_loss: 1.0223\n",
      "Epoch [   77/  100] | d_loss: 1.1513 | g_loss: 1.3100\n",
      "Epoch [   78/  100] | d_loss: 1.3079 | g_loss: 1.3601\n",
      "Epoch [   78/  100] | d_loss: 1.3465 | g_loss: 0.9554\n",
      "Epoch [   78/  100] | d_loss: 1.3224 | g_loss: 1.2360\n",
      "Epoch [   79/  100] | d_loss: 1.3121 | g_loss: 1.0691\n",
      "Epoch [   79/  100] | d_loss: 1.2150 | g_loss: 1.1781\n",
      "Epoch [   79/  100] | d_loss: 1.3407 | g_loss: 1.0431\n",
      "Epoch [   80/  100] | d_loss: 1.2716 | g_loss: 0.8436\n",
      "Epoch [   80/  100] | d_loss: 1.3241 | g_loss: 0.9169\n",
      "Epoch [   80/  100] | d_loss: 1.4041 | g_loss: 0.9305\n",
      "Epoch [   81/  100] | d_loss: 1.2838 | g_loss: 0.9163\n",
      "Epoch [   81/  100] | d_loss: 1.2120 | g_loss: 1.2837\n",
      "Epoch [   81/  100] | d_loss: 1.2970 | g_loss: 1.1356\n",
      "Epoch [   82/  100] | d_loss: 1.2960 | g_loss: 1.5821\n",
      "Epoch [   82/  100] | d_loss: 1.4430 | g_loss: 0.9555\n",
      "Epoch [   82/  100] | d_loss: 1.4733 | g_loss: 1.0437\n",
      "Epoch [   83/  100] | d_loss: 1.2792 | g_loss: 1.1027\n",
      "Epoch [   83/  100] | d_loss: 1.3023 | g_loss: 0.9294\n",
      "Epoch [   83/  100] | d_loss: 1.3194 | g_loss: 1.0932\n",
      "Epoch [   84/  100] | d_loss: 1.3047 | g_loss: 1.0030\n",
      "Epoch [   84/  100] | d_loss: 1.2381 | g_loss: 1.0296\n",
      "Epoch [   84/  100] | d_loss: 1.3750 | g_loss: 1.6688\n",
      "Epoch [   85/  100] | d_loss: 1.2616 | g_loss: 1.4606\n",
      "Epoch [   85/  100] | d_loss: 1.2650 | g_loss: 0.9907\n",
      "Epoch [   85/  100] | d_loss: 1.4164 | g_loss: 1.0735\n",
      "Epoch [   86/  100] | d_loss: 1.2815 | g_loss: 1.0268\n",
      "Epoch [   86/  100] | d_loss: 1.3256 | g_loss: 0.8232\n",
      "Epoch [   86/  100] | d_loss: 1.3923 | g_loss: 1.0324\n",
      "Epoch [   87/  100] | d_loss: 1.2829 | g_loss: 0.8413\n",
      "Epoch [   87/  100] | d_loss: 1.2839 | g_loss: 0.9030\n",
      "Epoch [   87/  100] | d_loss: 1.2813 | g_loss: 1.0719\n",
      "Epoch [   88/  100] | d_loss: 1.2832 | g_loss: 0.9156\n",
      "Epoch [   88/  100] | d_loss: 1.3055 | g_loss: 0.9934\n",
      "Epoch [   88/  100] | d_loss: 1.4605 | g_loss: 1.0241\n",
      "Epoch [   89/  100] | d_loss: 1.3280 | g_loss: 0.8624\n",
      "Epoch [   89/  100] | d_loss: 1.1586 | g_loss: 1.4816\n",
      "Epoch [   89/  100] | d_loss: 1.3098 | g_loss: 0.9699\n",
      "Epoch [   90/  100] | d_loss: 1.2631 | g_loss: 1.0026\n",
      "Epoch [   90/  100] | d_loss: 1.3163 | g_loss: 0.8694\n",
      "Epoch [   90/  100] | d_loss: 1.3516 | g_loss: 1.0709\n",
      "Epoch [   91/  100] | d_loss: 1.2928 | g_loss: 0.9102\n",
      "Epoch [   91/  100] | d_loss: 1.2566 | g_loss: 0.9031\n",
      "Epoch [   91/  100] | d_loss: 1.3054 | g_loss: 0.8753\n",
      "Epoch [   92/  100] | d_loss: 1.1609 | g_loss: 1.0912\n",
      "Epoch [   92/  100] | d_loss: 1.1846 | g_loss: 1.1168\n",
      "Epoch [   92/  100] | d_loss: 1.3183 | g_loss: 1.0214\n",
      "Epoch [   93/  100] | d_loss: 1.2078 | g_loss: 1.9209\n",
      "Epoch [   93/  100] | d_loss: 1.2614 | g_loss: 1.0208\n",
      "Epoch [   93/  100] | d_loss: 1.3582 | g_loss: 0.9870\n",
      "Epoch [   94/  100] | d_loss: 1.2769 | g_loss: 0.9903\n",
      "Epoch [   94/  100] | d_loss: 1.2646 | g_loss: 0.9354\n",
      "Epoch [   94/  100] | d_loss: 1.4158 | g_loss: 0.9780\n",
      "Epoch [   95/  100] | d_loss: 1.2828 | g_loss: 0.9055\n",
      "Epoch [   95/  100] | d_loss: 1.3452 | g_loss: 0.7644\n",
      "Epoch [   95/  100] | d_loss: 1.3485 | g_loss: 1.1060\n",
      "Epoch [   96/  100] | d_loss: 1.2932 | g_loss: 1.0409\n",
      "Epoch [   96/  100] | d_loss: 1.2127 | g_loss: 0.9415\n",
      "Epoch [   96/  100] | d_loss: 1.4051 | g_loss: 0.9044\n",
      "Epoch [   97/  100] | d_loss: 1.3073 | g_loss: 0.9270\n",
      "Epoch [   97/  100] | d_loss: 1.3148 | g_loss: 0.9525\n",
      "Epoch [   97/  100] | d_loss: 1.2366 | g_loss: 1.1477\n",
      "Epoch [   98/  100] | d_loss: 1.3752 | g_loss: 1.5599\n",
      "Epoch [   98/  100] | d_loss: 1.2363 | g_loss: 0.8129\n",
      "Epoch [   98/  100] | d_loss: 1.2761 | g_loss: 0.9245\n",
      "Epoch [   99/  100] | d_loss: 1.3371 | g_loss: 1.3892\n",
      "Epoch [   99/  100] | d_loss: 1.3033 | g_loss: 1.1383\n",
      "Epoch [   99/  100] | d_loss: 1.3395 | g_loss: 0.8589\n",
      "Epoch [  100/  100] | d_loss: 1.2399 | g_loss: 1.3783\n",
      "Epoch [  100/  100] | d_loss: 1.2655 | g_loss: 1.0317\n",
      "Epoch [  100/  100] | d_loss: 1.3102 | g_loss: 0.9141\n"
     ]
    }
   ],
   "source": [
    "import pickle as pkl\n",
    "\n",
    "# training hyperparams\n",
    "num_epochs = 100\n",
    "# num_epochs = 10\n",
    "\n",
    "# keep track of loss and generated, \"fake\" samples\n",
    "samples = []\n",
    "losses = []\n",
    "\n",
    "print_every = 400\n",
    "\n",
    "# Get some fixed data for sampling. These are images that are held\n",
    "# constant throughout training, and allow us to inspect the model's performance\n",
    "sample_size=16\n",
    "fixed_z = np.random.uniform(-1, 1, size=(sample_size, z_size))\n",
    "fixed_z = torch.from_numpy(fixed_z).float()\n",
    "\n",
    "if (use_cuda):\n",
    "    D = D.cuda()\n",
    "    G = G.cuda()\n",
    "    \n",
    "    fixed_z = fixed_z.cuda()\n",
    "\n",
    "# train the network\n",
    "D.train()\n",
    "G.train()\n",
    "for epoch in range(num_epochs):\n",
    "    \n",
    "    for batch_i, (real_images, _) in enumerate(train_loader):\n",
    "                \n",
    "        batch_size = real_images.size(0)\n",
    "        \n",
    "        ## Important rescaling step ## \n",
    "        real_images = real_images*2 - 1  # rescale input images from [0,1) to [-1, 1)\n",
    "        \n",
    "        if (use_cuda):\n",
    "            real_images = real_images.cuda()\n",
    "        fixed_z\n",
    "        # ============================================\n",
    "        #            TRAIN THE DISCRIMINATOR\n",
    "        # ============================================\n",
    "                \n",
    "        # 1. Train with real images\n",
    "        d_optimizer.zero_grad()\n",
    " \n",
    "        d_real_output = D(real_images)\n",
    "        d_real_loss = real_loss(d_real_output, True)\n",
    "\n",
    "        # Compute the discriminator losses on real images\n",
    "        # use smoothed labels\n",
    "        \n",
    "        # 2. Train with fake images\n",
    "        \n",
    "        # Generate fake images\n",
    "        z = np.random.uniform(-1, 1, size=(batch_size, z_size))\n",
    "        z = torch.from_numpy(z).float()\n",
    "        if (use_cuda):\n",
    "            z = z.cuda()\n",
    "        \n",
    "        fake_images = G(z)\n",
    "        \n",
    "        # Compute the discriminator losses on fake images\n",
    "        \n",
    "        d_fake_output = D(fake_images)\n",
    "        d_fake_loss = fake_loss(d_fake_output)\n",
    "        \n",
    "        # add up real and fake losses and perform backprop\n",
    "        d_loss = d_real_loss + d_fake_loss\n",
    "        \n",
    "        d_loss.backward()\n",
    "        d_optimizer.step()\n",
    "        \n",
    "        \n",
    "        # =========================================\n",
    "        #            TRAIN THE GENERATOR\n",
    "        # =========================================\n",
    "        \n",
    "        # 1. Train with fake images and flipped labels\n",
    "        \n",
    "        # Generate fake images\n",
    "        \n",
    "        # Compute the discriminator losses on fake images \n",
    "        # using flipped labels!\n",
    "        \n",
    "        # perform backprop\n",
    "        \n",
    "        g_optimizer.zero_grad()\n",
    "        \n",
    "        z = np.random.uniform(-1, 1, size=(batch_size, z_size))\n",
    "        z = torch.from_numpy(z).float()\n",
    "        if (use_cuda):\n",
    "            z = z.cuda()\n",
    "        \n",
    "        fake_image = G(z)\n",
    "        \n",
    "        d_fake_output = D(fake_image)\n",
    "        g_loss = real_loss(d_fake_output, False)\n",
    "        \n",
    "        g_loss.backward()\n",
    "        g_optimizer.step()\n",
    "        \n",
    "\n",
    "        # Print some loss stats\n",
    "        if batch_i % print_every == 0:\n",
    "            # print discriminator and generator loss\n",
    "            print('Epoch [{:5d}/{:5d}] | d_loss: {:6.4f} | g_loss: {:6.4f}'.format(\n",
    "                    epoch+1, num_epochs, d_loss.item(), g_loss.item()))\n",
    "\n",
    "    \n",
    "    ## AFTER EACH EPOCH##\n",
    "    # append discriminator loss and generator loss\n",
    "    losses.append((d_loss.item(), g_loss.item()))\n",
    "    \n",
    "    # generate and save sample, fake images\n",
    "    G.eval() # eval mode for generating samples\n",
    "    samples_z = G(fixed_z)\n",
    "    samples.append(samples_z)\n",
    "    G.train() # back to train mode\n",
    "\n",
    "\n",
    "# Save training generator samples\n",
    "with open('train_samples.pkl', 'wb') as f:\n",
    "    pkl.dump(samples, f)"
   ]
  },
  {
   "cell_type": "markdown",
   "metadata": {},
   "source": [
    "## Training loss\n",
    "\n",
    "Here we'll plot the training losses for the generator and discriminator, recorded after each epoch."
   ]
  },
  {
   "cell_type": "code",
   "execution_count": 185,
   "metadata": {},
   "outputs": [
    {
     "data": {
      "text/plain": [
       "<matplotlib.legend.Legend at 0x7fc182386bd0>"
      ]
     },
     "execution_count": 185,
     "metadata": {},
     "output_type": "execute_result"
    },
    {
     "data": {
      "image/png": "[encoded data removed]",
      "text/plain": [
       "<Figure size 432x288 with 1 Axes>"
      ]
     },
     "metadata": {
      "needs_background": "light"
     },
     "output_type": "display_data"
    }
   ],
   "source": [
    "fig, ax = plt.subplots()\n",
    "losses = np.array(losses)\n",
    "plt.plot(losses.T[0], label='Discriminator')\n",
    "plt.plot(losses.T[1], label='Generator')\n",
    "plt.title(\"Training Losses\")\n",
    "plt.legend()"
   ]
  },
  {
   "cell_type": "markdown",
   "metadata": {},
   "source": [
    "## Generator samples from training\n",
    "\n",
    "Here we can view samples of images from the generator. First we'll look at the images we saved during training."
   ]
  },
  {
   "cell_type": "code",
   "execution_count": 186,
   "metadata": {},
   "outputs": [],
   "source": [
    "# helper function for viewing a list of passed in sample images\n",
    "def view_samples(epoch, samples):\n",
    "    fig, axes = plt.subplots(figsize=(7,7), nrows=4, ncols=4, sharey=True, sharex=True)\n",
    "    for ax, img in zip(axes.flatten(), samples[epoch].cpu()):\n",
    "        img = img.detach()\n",
    "        ax.xaxis.set_visible(False)\n",
    "        ax.yaxis.set_visible(False)\n",
    "        im = ax.imshow(img.reshape((28,28)), cmap='Greys_r')"
   ]
  },
  {
   "cell_type": "code",
   "execution_count": 187,
   "metadata": {},
   "outputs": [],
   "source": [
    "# Load samples from generator, taken while training\n",
    "with open('train_samples.pkl', 'rb') as f:\n",
    "    samples = pkl.load(f)"
   ]
  },
  {
   "cell_type": "markdown",
   "metadata": {},
   "source": [
    "These are samples from the final training epoch. You can see the generator is able to reproduce numbers like 1, 7, 3, 2. Since this is just a sample, it isn't representative of the full range of images this generator can make."
   ]
  },
  {
   "cell_type": "code",
   "execution_count": 188,
   "metadata": {},
   "outputs": [
    {
     "data": {
      "image/png": "[encoded data removed]",
      "text/plain": [
       "<Figure size 504x504 with 16 Axes>"
      ]
     },
     "metadata": {
      "needs_background": "light"
     },
     "output_type": "display_data"
    }
   ],
   "source": [
    "# -1 indicates final epoch's samples (the last in the list)\n",
    "view_samples(-1, samples)"
   ]
  },
  {
   "cell_type": "markdown",
   "metadata": {},
   "source": [
    "Below I'm showing the generated images as the network was training, every 10 epochs."
   ]
  },
  {
   "cell_type": "code",
   "execution_count": 189,
   "metadata": {},
   "outputs": [
    {
     "data": {
      "image/png": "[encoded data removed]",
      "text/plain": [
       "<Figure size 504x864 with 60 Axes>"
      ]
     },
     "metadata": {
      "needs_background": "light"
     },
     "output_type": "display_data"
    }
   ],
   "source": [
    "rows = 10 # split epochs into 10, so 100/10 = every 10 epochs\n",
    "cols = 6\n",
    "fig, axes = plt.subplots(figsize=(7,12), nrows=rows, ncols=cols, sharex=True, sharey=True)\n",
    "\n",
    "for sample, ax_row in zip(samples[::int(len(samples)/rows)], axes):\n",
    "    for img, ax in zip(sample[::int(len(sample)/cols)], ax_row):\n",
    "        img = img.cpu().detach()\n",
    "        ax.imshow(img.reshape((28,28)), cmap='Greys_r')\n",
    "        ax.xaxis.set_visible(False)\n",
    "        ax.yaxis.set_visible(False)"
   ]
  },
  {
   "cell_type": "markdown",
   "metadata": {},
   "source": [
    "It starts out as all noise. Then it learns to make only the center white and the rest black. You can start to see some number like structures appear out of the noise like 1s and 9s."
   ]
  },
  {
   "cell_type": "markdown",
   "metadata": {},
   "source": [
    "## Sampling from the generator\n",
    "\n",
    "We can also get completely new images from the generator by using the checkpoint we saved after training. **We just need to pass in a new latent vector $z$ and we'll get new samples**!"
   ]
  },
  {
   "cell_type": "code",
   "execution_count": 192,
   "metadata": {},
   "outputs": [
    {
     "data": {
      "image/png": "[encoded data removed]",
      "text/plain": [
       "<Figure size 504x504 with 16 Axes>"
      ]
     },
     "metadata": {
      "needs_background": "light"
     },
     "output_type": "display_data"
    }
   ],
   "source": [
    "# randomly generated, new latent vectors\n",
    "sample_size=16\n",
    "rand_z = np.random.uniform(-1, 1, size=(sample_size, z_size))\n",
    "rand_z = torch.from_numpy(rand_z).float()\n",
    "\n",
    "if use_cuda:\n",
    "    rand_z = rand_z.cuda()\n",
    "\n",
    "G.eval() # eval mode\n",
    "# generated samples\n",
    "rand_images = G(rand_z)\n",
    "\n",
    "# 0 indicates the first set of samples in the passed in list\n",
    "# and we only have one batch of samples, here\n",
    "view_samples(0, [rand_images])"
   ]
  },
  {
   "cell_type": "code",
   "execution_count": null,
   "metadata": {},
   "outputs": [],
   "source": []
  }
 ],
 "metadata": {
  "kernelspec": {
   "display_name": "Python 3",
   "language": "python",
   "name": "python3"
  },
  "language_info": {
   "codemirror_mode": {
    "name": "ipython",
    "version": 3
   },
   "file_extension": ".py",
   "mimetype": "text/x-python",
   "name": "python",
   "nbconvert_exporter": "python",
   "pygments_lexer": "ipython3",
   "version": "3.7.4"
  }
 },
 "nbformat": 4,
 "nbformat_minor": 2
}
